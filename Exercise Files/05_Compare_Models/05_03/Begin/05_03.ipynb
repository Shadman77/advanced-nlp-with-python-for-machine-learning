{
 "cells": [
  {
   "cell_type": "markdown",
   "metadata": {},
   "source": [
    "# Compare NLP Techniques: Build Model On word2vec Vectors"
   ]
  },
  {
   "cell_type": "markdown",
   "metadata": {},
   "source": [
    "### Read In Cleaned Text"
   ]
  },
  {
   "cell_type": "code",
   "execution_count": 1,
   "metadata": {},
   "outputs": [],
   "source": [
    "# Load the cleaned training and test sets\n",
    "import gensim\n",
    "import numpy as np\n",
    "import pandas as pd\n",
    "\n",
    "X_train = pd.read_csv('../../../data/X_train.csv')\n",
    "X_test = pd.read_csv('../../../data/X_test.csv')\n",
    "y_train = pd.read_csv('../../../data/y_train.csv')\n",
    "y_test = pd.read_csv('../../../data/y_test.csv')"
   ]
  },
  {
   "cell_type": "markdown",
   "metadata": {},
   "source": [
    "### Create word2vec Vectors"
   ]
  },
  {
   "cell_type": "code",
   "execution_count": 3,
   "metadata": {},
   "outputs": [],
   "source": [
    "# Train a basic word2vec model\n",
    "w2v_model = gensim.models.Word2Vec(X_train,\n",
    "                                   vector_size=100,\n",
    "                                   window=5,\n",
    "                                   min_count=2)"
   ]
  },
  {
   "cell_type": "code",
   "execution_count": 6,
   "metadata": {},
   "outputs": [
    {
     "name": "stderr",
     "output_type": "stream",
     "text": [
      "f:\\Shadman\\advanced-nlp-with-python-for-machine-learning\\venv\\lib\\site-packages\\ipykernel_launcher.py:4: VisibleDeprecationWarning: Creating an ndarray from ragged nested sequences (which is a list-or-tuple of lists-or-tuples-or ndarrays with different lengths or shapes) is deprecated. If you meant to do this, you must specify 'dtype=object' when creating the ndarray.\n",
      "  after removing the cwd from sys.path.\n",
      "f:\\Shadman\\advanced-nlp-with-python-for-machine-learning\\venv\\lib\\site-packages\\ipykernel_launcher.py:6: VisibleDeprecationWarning: Creating an ndarray from ragged nested sequences (which is a list-or-tuple of lists-or-tuples-or ndarrays with different lengths or shapes) is deprecated. If you meant to do this, you must specify 'dtype=object' when creating the ndarray.\n",
      "  \n"
     ]
    }
   ],
   "source": [
    "# Replace the words in each text message with the learned word vector\n",
    "words = set(w2v_model.wv.index_to_key)\n",
    "X_train_vect = np.array([np.array([w2v_model.wv[i] for i in ls if i in words])\n",
    "                         for ls in X_train['clean_text']])\n",
    "X_test_vect = np.array([np.array([w2v_model.wv[i] for i in ls if i in words])\n",
    "                         for ls in X_test['clean_text']])"
   ]
  },
  {
   "cell_type": "code",
   "execution_count": 7,
   "metadata": {},
   "outputs": [],
   "source": [
    "# Average the word vectors for each sentence (and assign a vector of zeros if the model\n",
    "# did not learn any of the words in the text message during training\n",
    "X_train_vect_avg = []\n",
    "for v in X_train_vect:\n",
    "    if v.size:\n",
    "        X_train_vect_avg.append(v.mean(axis=0))\n",
    "    else:\n",
    "        X_train_vect_avg.append(np.zeros(100, dtype=float))\n",
    "        \n",
    "X_test_vect_avg = []\n",
    "for v in X_test_vect:\n",
    "    if v.size:\n",
    "        X_test_vect_avg.append(v.mean(axis=0))\n",
    "    else:\n",
    "        X_test_vect_avg.append(np.zeros(100, dtype=float))"
   ]
  },
  {
   "cell_type": "code",
   "execution_count": 8,
   "metadata": {},
   "outputs": [
    {
     "data": {
      "text/plain": [
       "array([[-0.00053623,  0.00023643,  0.00510335, ..., -0.00704156,\n",
       "         0.00090146,  0.00639253],\n",
       "       [-0.00053623,  0.00023643,  0.00510335, ..., -0.00704156,\n",
       "         0.00090146,  0.00639253],\n",
       "       [-0.00053623,  0.00023643,  0.00510335, ..., -0.00704156,\n",
       "         0.00090146,  0.00639253],\n",
       "       ...,\n",
       "       [-0.00861969,  0.00366574,  0.00518988, ..., -0.00239151,\n",
       "        -0.0095101 ,  0.00450588],\n",
       "       [-0.00861969,  0.00366574,  0.00518988, ..., -0.00239151,\n",
       "        -0.0095101 ,  0.00450588],\n",
       "       [-0.00861969,  0.00366574,  0.00518988, ..., -0.00239151,\n",
       "        -0.0095101 ,  0.00450588]], dtype=float32)"
      ]
     },
     "execution_count": 8,
     "metadata": {},
     "output_type": "execute_result"
    }
   ],
   "source": [
    "# What does the unaveraged version look like?\n",
    "X_train_vect[0]"
   ]
  },
  {
   "cell_type": "code",
   "execution_count": 9,
   "metadata": {},
   "outputs": [
    {
     "data": {
      "text/plain": [
       "array([-2.8457877e-03,  1.2162324e-03,  5.1280735e-03,  8.0757486e-03,\n",
       "       -4.5115589e-03, -6.8456284e-03,  4.9293698e-03,  8.1370715e-03,\n",
       "       -4.3938928e-03, -4.4519873e-03,  5.1545831e-03, -3.4864661e-03,\n",
       "       -4.8404424e-03,  6.7113335e-03, -2.5136748e-03,  7.6732121e-04,\n",
       "        3.9976272e-03,  2.8601217e-03, -7.0006279e-03, -6.9096717e-03,\n",
       "        5.8936551e-03,  2.3304631e-03,  7.2237030e-03, -2.2717144e-03,\n",
       "        6.4691044e-03, -1.5997135e-03, -2.0853826e-03,  5.3770351e-03,\n",
       "       -5.8696200e-03, -8.9396565e-04, -2.5183163e-03, -1.9107286e-03,\n",
       "        6.6417023e-03, -6.8553020e-03, -5.6674343e-04, -5.8792240e-04,\n",
       "        7.7384762e-03, -2.4931848e-03,  2.7575425e-03, -7.4597716e-04,\n",
       "       -4.6030884e-03,  1.5796365e-03, -8.8728089e-03, -3.2386624e-03,\n",
       "       -9.1074052e-04,  2.0439599e-03, -3.7755780e-03,  6.4260559e-03,\n",
       "        3.9903158e-03,  7.1065421e-03, -3.5934921e-03,  4.9408694e-04,\n",
       "       -3.0137782e-03,  1.5801523e-03,  5.8021625e-03, -7.9247815e-04,\n",
       "        5.8012949e-03, -2.9802565e-03, -2.7379557e-03,  8.9161927e-03,\n",
       "       -3.5652774e-03,  1.1458673e-03, -4.2827348e-03, -6.9416217e-03,\n",
       "       -5.1544495e-05,  3.2985213e-03,  1.5855551e-03,  2.3050420e-03,\n",
       "        1.6454747e-04,  3.5073308e-03,  2.8370533e-03,  3.4626408e-03,\n",
       "        5.1517593e-04, -4.7173160e-03,  2.8968074e-03, -1.5086841e-03,\n",
       "        3.2910977e-03, -1.2943629e-03, -4.1508061e-04, -7.2993604e-03,\n",
       "       -3.2889859e-03,  3.1123273e-03,  5.2537289e-03,  3.2008791e-03,\n",
       "       -3.7283562e-03,  7.3490507e-04,  4.3561584e-03, -6.2510399e-03,\n",
       "       -1.4503287e-03,  3.4982751e-03,  1.4760951e-03, -3.1469515e-04,\n",
       "        3.1087901e-03, -2.0963247e-03,  6.0942522e-03,  4.3756310e-03,\n",
       "       -4.8419409e-03, -5.7129771e-03, -2.0732731e-03,  5.8534900e-03],\n",
       "      dtype=float32)"
      ]
     },
     "execution_count": 9,
     "metadata": {},
     "output_type": "execute_result"
    }
   ],
   "source": [
    "# What does the averaged version look like?\n",
    "X_train_vect_avg[0]"
   ]
  },
  {
   "cell_type": "markdown",
   "metadata": {},
   "source": [
    "### Fit RandomForestClassifier On Top Of Word Vectors"
   ]
  },
  {
   "cell_type": "code",
   "execution_count": 10,
   "metadata": {},
   "outputs": [],
   "source": [
    "# Instantiate and fit a basic Random Forest model on top of the vectors\n",
    "from sklearn.ensemble import RandomForestClassifier\n",
    "\n",
    "rf = RandomForestClassifier(n_estimators=10)\n",
    "rf_model = rf.fit(X_train_vect_avg, y_train.values.ravel())"
   ]
  },
  {
   "cell_type": "code",
   "execution_count": 11,
   "metadata": {},
   "outputs": [],
   "source": [
    "# Use the trained model to make predictions on the test data\n",
    "y_pred = rf_model.predict(X_test_vect_avg)"
   ]
  },
  {
   "cell_type": "code",
   "execution_count": 12,
   "metadata": {},
   "outputs": [
    {
     "name": "stdout",
     "output_type": "stream",
     "text": [
      "Precision: 0.525 / Recall: 0.211 / Accuracy: 0.866\n"
     ]
    }
   ],
   "source": [
    "# Evaluate the predictions of the model on the holdout test set\n",
    "from sklearn.metrics import precision_score, recall_score\n",
    "\n",
    "precision = precision_score(y_test, y_pred)\n",
    "recall = recall_score(y_test, y_pred)\n",
    "print('Precision: {} / Recall: {} / Accuracy: {}'.format(\n",
    "    round(precision, 3), round(recall, 3), round((y_pred==y_test['label']).sum()/len(y_pred), 3)))"
   ]
  }
 ],
 "metadata": {
  "kernelspec": {
   "display_name": "Python 3.7.9 ('venv': venv)",
   "language": "python",
   "name": "python3"
  },
  "language_info": {
   "codemirror_mode": {
    "name": "ipython",
    "version": 3
   },
   "file_extension": ".py",
   "mimetype": "text/x-python",
   "name": "python",
   "nbconvert_exporter": "python",
   "pygments_lexer": "ipython3",
   "version": "3.7.9"
  },
  "vscode": {
   "interpreter": {
    "hash": "689da03aa85e0e7a4ffdf21283ae81ce04534e20ccfdcb5257e36e6bb922dd36"
   }
  }
 },
 "nbformat": 4,
 "nbformat_minor": 2
}
