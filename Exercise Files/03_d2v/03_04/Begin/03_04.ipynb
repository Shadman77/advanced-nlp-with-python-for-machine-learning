{
 "cells": [
  {
   "cell_type": "markdown",
   "metadata": {},
   "source": [
    "# doc2vec: How To Prep Document Vectors For Modeling"
   ]
  },
  {
   "cell_type": "markdown",
   "metadata": {},
   "source": [
    "### Train Our Own Model"
   ]
  },
  {
   "cell_type": "code",
   "execution_count": 1,
   "metadata": {},
   "outputs": [],
   "source": [
    "# Read in data, clean it, split it into train/test, and then train a doc2vec model\n",
    "import gensim\n",
    "import pandas as pd\n",
    "from sklearn.model_selection import train_test_split\n",
    "pd.set_option('display.max_colwidth', 100)\n",
    "\n",
    "messages = pd.read_csv('../../../data/spam.csv', encoding='latin-1')\n",
    "messages = messages.drop(labels = [\"Unnamed: 2\", \"Unnamed: 3\", \"Unnamed: 4\"], axis = 1)\n",
    "messages.columns = [\"label\", \"text\"]\n",
    "messages['text_clean'] = messages['text'].apply(lambda x: gensim.utils.simple_preprocess(x))\n",
    "\n",
    "X_train, X_test, y_train, y_test = train_test_split(messages['text_clean'],\n",
    "                                                    messages['label'], test_size=0.2)\n",
    "\n",
    "tagged_docs_tr = [gensim.models.doc2vec.TaggedDocument(v, [i]) for i, v in enumerate(X_train)]\n",
    "\n",
    "d2v_model = gensim.models.Doc2Vec(tagged_docs_tr,\n",
    "                                  vector_size=50,\n",
    "                                  window=2,\n",
    "                                  min_count=2)"
   ]
  },
  {
   "cell_type": "code",
   "execution_count": 2,
   "metadata": {},
   "outputs": [
    {
     "data": {
      "text/plain": [
       "array([-0.00403172,  0.00026898,  0.00397732, -0.00230044, -0.00047082,\n",
       "       -0.03563086,  0.00974388,  0.0343623 , -0.0321003 , -0.02941031,\n",
       "       -0.01406595, -0.03503196,  0.00558814,  0.02103827, -0.01389227,\n",
       "        0.01120981,  0.019504  , -0.00228228, -0.0393189 , -0.0138641 ,\n",
       "        0.006376  ,  0.01934386,  0.03422216,  0.00719447,  0.02232165,\n",
       "        0.01684299, -0.01390336,  0.00164276, -0.01285467, -0.00074175,\n",
       "       -0.01161614,  0.0065408 , -0.00432422,  0.01732569, -0.00699615,\n",
       "        0.03670356,  0.0211745 , -0.00765098,  0.0080795 , -0.01704996,\n",
       "        0.04256353, -0.01291723,  0.00321247, -0.00895651,  0.05693767,\n",
       "        0.00553296, -0.0005889 , -0.03188126,  0.00971153,  0.00766496],\n",
       "      dtype=float32)"
      ]
     },
     "execution_count": 2,
     "metadata": {},
     "output_type": "execute_result"
    }
   ],
   "source": [
    "# What does a document vector look like again?\n",
    "d2v_model.infer_vector(['convert', 'words', 'to', 'vectors'])"
   ]
  },
  {
   "cell_type": "code",
   "execution_count": 3,
   "metadata": {},
   "outputs": [],
   "source": [
    "# How do we prepare these vectors to be used in a machine learning model?\n",
    "vectors = [[d2v_model.infer_vector(words)] for words in X_test]"
   ]
  },
  {
   "cell_type": "code",
   "execution_count": 4,
   "metadata": {},
   "outputs": [
    {
     "data": {
      "text/plain": [
       "[array([ 0.00813602, -0.00059796,  0.02811295, -0.00363494, -0.00585854,\n",
       "        -0.0471511 ,  0.02728146,  0.09172677, -0.07608333, -0.04093894,\n",
       "        -0.01882271, -0.09397043,  0.0164298 ,  0.04366626, -0.06052933,\n",
       "         0.04807147,  0.05614296, -0.01132237, -0.10898621, -0.09225769,\n",
       "         0.0129545 ,  0.06992073,  0.07613064,  0.0040654 ,  0.10659749,\n",
       "         0.05679163, -0.06240484,  0.03396139, -0.06078044, -0.01247763,\n",
       "        -0.00245474,  0.03926037, -0.01475118,  0.01533249, -0.02376419,\n",
       "         0.0603104 ,  0.05442151, -0.02748888,  0.06131037, -0.04751287,\n",
       "         0.10352437,  0.01277381,  0.01390783,  0.0009881 ,  0.13623229,\n",
       "         0.01234501,  0.00270065, -0.07948006,  0.02919884,  0.01823136],\n",
       "       dtype=float32)]"
      ]
     },
     "execution_count": 4,
     "metadata": {},
     "output_type": "execute_result"
    }
   ],
   "source": [
    "vectors[0]"
   ]
  }
 ],
 "metadata": {
  "kernelspec": {
   "display_name": "Python 3.7.9 ('venv': venv)",
   "language": "python",
   "name": "python3"
  },
  "language_info": {
   "codemirror_mode": {
    "name": "ipython",
    "version": 3
   },
   "file_extension": ".py",
   "mimetype": "text/x-python",
   "name": "python",
   "nbconvert_exporter": "python",
   "pygments_lexer": "ipython3",
   "version": "3.7.9"
  },
  "vscode": {
   "interpreter": {
    "hash": "689da03aa85e0e7a4ffdf21283ae81ce04534e20ccfdcb5257e36e6bb922dd36"
   }
  }
 },
 "nbformat": 4,
 "nbformat_minor": 1
}
