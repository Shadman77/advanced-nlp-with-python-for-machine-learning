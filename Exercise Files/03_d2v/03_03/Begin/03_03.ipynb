{
 "cells": [
  {
   "cell_type": "markdown",
   "metadata": {},
   "source": [
    "# doc2vec: How To Implement doc2vec"
   ]
  },
  {
   "cell_type": "markdown",
   "metadata": {},
   "source": [
    "### Train Our Own Model"
   ]
  },
  {
   "cell_type": "code",
   "execution_count": 1,
   "metadata": {},
   "outputs": [
    {
     "name": "stdout",
     "output_type": "stream",
     "text": [
      "Collecting gensim\n",
      "  Downloading gensim-4.2.0-cp37-cp37m-win_amd64.whl (24.0 MB)\n",
      "Collecting smart-open>=1.8.1\n",
      "  Downloading smart_open-6.2.0-py3-none-any.whl (58 kB)\n",
      "Requirement already satisfied: numpy>=1.17.0 in f:\\shadman\\advanced-nlp-with-python-for-machine-learning\\venv\\lib\\site-packages (from gensim) (1.21.6)\n",
      "Collecting Cython==0.29.28\n",
      "  Downloading Cython-0.29.28-py2.py3-none-any.whl (983 kB)\n",
      "Requirement already satisfied: scipy>=0.18.1 in f:\\shadman\\advanced-nlp-with-python-for-machine-learning\\venv\\lib\\site-packages (from gensim) (1.7.3)\n",
      "Installing collected packages: smart-open, Cython, gensim\n",
      "Successfully installed Cython-0.29.28 gensim-4.2.0 smart-open-6.2.0\n",
      "Note: you may need to restart the kernel to use updated packages.\n"
     ]
    },
    {
     "name": "stderr",
     "output_type": "stream",
     "text": [
      "WARNING: You are using pip version 20.1.1; however, version 22.2.2 is available.\n",
      "You should consider upgrading via the 'f:\\Shadman\\advanced-nlp-with-python-for-machine-learning\\venv\\Scripts\\python.exe -m pip install --upgrade pip' command.\n"
     ]
    }
   ],
   "source": [
    "# Read in data, clean it, and then split into train and test sets\n",
    "%pip install gensim\n",
    "import gensim\n",
    "import pandas as pd\n",
    "from sklearn.model_selection import train_test_split\n",
    "pd.set_option('display.max_colwidth', 100)\n",
    "\n",
    "messages = pd.read_csv('../../../data/spam.csv', encoding='latin-1')\n",
    "messages = messages.drop(labels = [\"Unnamed: 2\", \"Unnamed: 3\", \"Unnamed: 4\"], axis = 1)\n",
    "messages.columns = [\"label\", \"text\"]\n",
    "messages['text_clean'] = messages['text'].apply(lambda x: gensim.utils.simple_preprocess(x))\n",
    "\n",
    "X_train, X_test, y_train, y_test = train_test_split(messages['text_clean'],\n",
    "                                                    messages['label'], test_size=0.2)"
   ]
  },
  {
   "cell_type": "code",
   "execution_count": 2,
   "metadata": {},
   "outputs": [],
   "source": [
    "# Create tagged document objects to prepare to train the model\n",
    "tagged_docs = [gensim.models.doc2vec.TaggedDocument(v, [i]) for i, v in enumerate(X_train)]"
   ]
  },
  {
   "cell_type": "code",
   "execution_count": 3,
   "metadata": {},
   "outputs": [
    {
     "data": {
      "text/plain": [
       "TaggedDocument(words=['congrats', 'kano', 'whr', 'the', 'treat', 'maga'], tags=[0])"
      ]
     },
     "execution_count": 3,
     "metadata": {},
     "output_type": "execute_result"
    }
   ],
   "source": [
    "# Look at what a tagged document looks like\n",
    "tagged_docs[0]"
   ]
  },
  {
   "cell_type": "code",
   "execution_count": 4,
   "metadata": {},
   "outputs": [],
   "source": [
    "# Train a basic doc2vec model\n",
    "d2v_model = gensim.models.Doc2Vec(tagged_docs, vector_size=100, window=5, min_count=2)"
   ]
  },
  {
   "cell_type": "code",
   "execution_count": 6,
   "metadata": {},
   "outputs": [
    {
     "data": {
      "text/plain": [
       "array([-0.00695794,  0.01102642,  0.00791691, -0.00685867,  0.0100231 ,\n",
       "       -0.02416742,  0.0040943 ,  0.04822392, -0.00828213, -0.01323164,\n",
       "       -0.01133444, -0.01881858,  0.00289192,  0.01361318,  0.00309901,\n",
       "       -0.02563928,  0.0105012 , -0.01153763,  0.00543096, -0.03275829,\n",
       "        0.00653578,  0.00784433,  0.00533204, -0.00710077,  0.00025901,\n",
       "       -0.00126091, -0.011543  , -0.01961317, -0.0122204 , -0.00835116,\n",
       "        0.00681895, -0.00335724,  0.0241813 , -0.01539448, -0.00201652,\n",
       "        0.01577563, -0.00092291, -0.02181119, -0.01173105, -0.02877375,\n",
       "        0.00056839, -0.0175397 , -0.01076417, -0.00291008,  0.0075044 ,\n",
       "       -0.01330562, -0.00761019, -0.00846967,  0.00760719,  0.01426211,\n",
       "        0.00764756, -0.01605777,  0.01021032,  0.00564735, -0.00969031,\n",
       "        0.01201043,  0.01143895, -0.00052674, -0.0263099 ,  0.01017373,\n",
       "        0.00262663,  0.00763592, -0.00666569, -0.00589905, -0.02075949,\n",
       "        0.0166045 ,  0.00982166,  0.00100728, -0.02785631,  0.01496776,\n",
       "       -0.00958348,  0.01775214,  0.02016677, -0.00491601,  0.01477807,\n",
       "        0.0018866 ,  0.00437563, -0.01230688, -0.01046721,  0.00763637,\n",
       "       -0.00903859,  0.00128594, -0.01150765,  0.03014789, -0.0155553 ,\n",
       "        0.00012357,  0.00111567,  0.00744857,  0.03222822,  0.01296099,\n",
       "        0.02899247,  0.00880124,  0.00182651,  0.01090792,  0.02942642,\n",
       "        0.01547758,  0.00849834, -0.02113916,  0.00186001, -0.00232073],\n",
       "      dtype=float32)"
      ]
     },
     "execution_count": 6,
     "metadata": {},
     "output_type": "execute_result"
    }
   ],
   "source": [
    "# What happens if we pass in a single word like we did for word2vec?\n",
    "d2v_model.infer_vector(['text'])"
   ]
  },
  {
   "cell_type": "code",
   "execution_count": 7,
   "metadata": {},
   "outputs": [
    {
     "data": {
      "text/plain": [
       "array([-1.2690783e-02,  2.6742611e-03,  8.6970469e-03, -4.3624560e-03,\n",
       "        2.5087146e-03, -2.6862273e-02,  2.3073100e-03,  3.8417671e-02,\n",
       "       -6.5484657e-03, -8.1529645e-03, -9.2960894e-03, -1.7031113e-02,\n",
       "       -4.5445045e-03,  1.7968586e-02, -3.1333370e-03, -1.3602014e-02,\n",
       "        3.0189406e-03, -1.6097143e-02,  1.8837925e-03, -2.5524555e-02,\n",
       "        5.9417533e-03,  8.6924024e-03,  8.8350167e-03, -3.1726102e-03,\n",
       "       -5.6489655e-03, -4.2956774e-03, -1.4344425e-02, -1.8299723e-02,\n",
       "       -1.4978578e-02, -5.0987299e-03,  7.5405356e-03, -4.2764884e-03,\n",
       "        1.3847619e-02, -1.3941579e-02, -1.8402614e-03,  1.3327149e-02,\n",
       "        1.0015505e-03, -1.4537542e-02, -2.7704507e-03, -1.6631756e-02,\n",
       "       -6.9107865e-03, -1.7751167e-02, -8.1142625e-03, -2.0929093e-03,\n",
       "        1.3109328e-02, -6.9115814e-03, -8.5080881e-03, -7.1837194e-04,\n",
       "        1.2882298e-02,  1.8438496e-02,  4.1275490e-03, -6.7977924e-03,\n",
       "        9.6025877e-03, -5.3389464e-03, -7.6418025e-03,  1.3043826e-02,\n",
       "       -4.1388033e-04, -6.6035553e-03, -1.9760519e-02,  6.6334871e-03,\n",
       "        1.5657559e-03, -4.2660129e-05, -7.5021693e-03, -4.6706730e-03,\n",
       "       -1.5782816e-02,  2.1583000e-02,  6.9374843e-03, -1.9144802e-04,\n",
       "       -2.2050397e-02,  1.9417888e-02, -2.9607117e-03,  8.2226833e-03,\n",
       "        8.8649662e-03, -1.8495265e-03,  2.2725878e-02,  3.5276900e-03,\n",
       "        1.2986202e-03, -2.6675805e-03, -9.5182490e-03,  7.2978437e-03,\n",
       "       -1.1480517e-02,  2.6051293e-03, -1.2863021e-02,  2.8159561e-02,\n",
       "       -1.1380640e-02,  4.9471197e-04,  1.0008678e-04,  4.8189745e-03,\n",
       "        1.7149108e-02,  8.4774587e-03,  1.4334840e-02,  7.2767776e-03,\n",
       "        2.0663466e-03,  1.4795765e-02,  1.8406780e-02,  1.9296139e-02,\n",
       "       -1.0084364e-03, -7.2182338e-03, -6.9579633e-04, -8.8333162e-03],\n",
       "      dtype=float32)"
      ]
     },
     "execution_count": 7,
     "metadata": {},
     "output_type": "execute_result"
    }
   ],
   "source": [
    "# What happens if we pass in a list of words?\n",
    "d2v_model.infer_vector(['I', 'am', 'learning', 'nlp'])"
   ]
  },
  {
   "cell_type": "markdown",
   "metadata": {},
   "source": [
    "### What About Pre-trained Document Vectors?\n",
    "\n",
    "There are not as many options as there are for word vectors. There also is not an easy API to read these in like there is for `word2vec` so it is more time consuming.\n",
    "\n",
    "Pre-trained vectors from training on Wikipedia and Associated Press News can be found [here](https://github.com/jhlau/doc2vec). Feel free to explore on your own!"
   ]
  }
 ],
 "metadata": {
  "kernelspec": {
   "display_name": "Python 3.7.9 ('venv': venv)",
   "language": "python",
   "name": "python3"
  },
  "language_info": {
   "codemirror_mode": {
    "name": "ipython",
    "version": 3
   },
   "file_extension": ".py",
   "mimetype": "text/x-python",
   "name": "python",
   "nbconvert_exporter": "python",
   "pygments_lexer": "ipython3",
   "version": "3.7.9"
  },
  "vscode": {
   "interpreter": {
    "hash": "689da03aa85e0e7a4ffdf21283ae81ce04534e20ccfdcb5257e36e6bb922dd36"
   }
  }
 },
 "nbformat": 4,
 "nbformat_minor": 1
}
